{
 "cells": [
  {
   "cell_type": "markdown",
   "metadata": {},
   "source": [
    "# Python Comments"
   ]
  },
  {
   "cell_type": "markdown",
   "metadata": {},
   "source": [
    "### Outline\n",
    "\n",
    "* What is a comment\n",
    "\n",
    "* How to create a comment\n",
    "\n",
    "* Kinds of comments\n",
    "\n",
    "### Study  Outcome\n",
    "\n",
    "Know how to create comments\n",
    "Know why comments are important."
   ]
  },
  {
   "cell_type": "markdown",
   "metadata": {},
   "source": [
    "### Comments\n",
    "\n",
    "* A comment can be defined as human readable documentation.\n",
    "* A comment is written by beginning a line with the # character \n",
    "* Anything that follows the # for the rest of the line is part of the comment.\n",
    "* Single Line Comments: Used before or next to the code\n",
    "* A comment should not be long and should be easy to understand."
   ]
  },
  {
   "cell_type": "code",
   "execution_count": 2,
   "metadata": {},
   "outputs": [
    {
     "data": {
      "text/plain": [
       "10"
      ]
     },
     "execution_count": 2,
     "metadata": {},
     "output_type": "execute_result"
    }
   ],
   "source": [
    "\n",
    "\n",
    "students = 10 #number of students at the data armory\n",
    "students\n"
   ]
  },
  {
   "cell_type": "markdown",
   "metadata": {},
   "source": [
    "* A comment is not an executable code."
   ]
  },
  {
   "cell_type": "code",
   "execution_count": 5,
   "metadata": {},
   "outputs": [
    {
     "name": "stdout",
     "output_type": "stream",
     "text": [
      "The  data armory\n"
     ]
    }
   ],
   "source": [
    "#Comments are not executable - This line will be ignored\n",
    "\n",
    "print('The  data armory')"
   ]
  },
  {
   "cell_type": "code",
   "execution_count": 9,
   "metadata": {},
   "outputs": [
    {
     "data": {
      "text/plain": [
       "'Welcome to the data armory'"
      ]
     },
     "execution_count": 9,
     "metadata": {},
     "output_type": "execute_result"
    }
   ],
   "source": [
    "# Should not be within a string\n",
    "new_students = 'Welcome to the data armory' \n",
    "new_students\n",
    "\n"
   ]
  },
  {
   "cell_type": "markdown",
   "metadata": {},
   "source": [
    "\n",
    "\n",
    "* It is important to add notes to your code and within your programs;\n",
    "\n",
    "   > This helps to define what your  code is doing or explains sections of your code and more so when;\n",
    "   \n",
    "   1. Your code is longer and complex.\n",
    "   2. Important when you forget what your codes is about, like why you used a function.\n",
    "   3. Meaningful comments will help others understand your code.\n",
    "   4. As a professional programmer you need meaningful code considering that you will collaborate with others.\n",
    "   5. It is easy to delete comments than to go back to comment your code. \n",
    "    \n",
    "    <br />\n",
    "\n",
    "* Commenting out is when you put the # when trying to find out what is wrong in a program.\n",
    "\n"
   ]
  },
  {
   "cell_type": "code",
   "execution_count": 14,
   "metadata": {},
   "outputs": [
    {
     "data": {
      "text/plain": [
       "85"
      ]
     },
     "execution_count": 14,
     "metadata": {},
     "output_type": "execute_result"
    }
   ],
   "source": [
    "x = 10\n",
    "y = 50\n",
    "z = 25\n",
    "\n",
    "total = x + y + z\n",
    "total\n"
   ]
  },
  {
   "cell_type": "code",
   "execution_count": 16,
   "metadata": {},
   "outputs": [],
   "source": [
    "#comments  \n",
    "# comments  \n",
    "# comments  \n",
    "# comments "
   ]
  },
  {
   "cell_type": "code",
   "execution_count": 17,
   "metadata": {},
   "outputs": [
    {
     "data": {
      "text/plain": [
       "40"
      ]
     },
     "execution_count": 17,
     "metadata": {},
     "output_type": "execute_result"
    }
   ],
   "source": [
    "# Getting the sum of variables\n",
    "# Use a different variable to print the results\n",
    "\n",
    "y = 20\n",
    "x = 10\n",
    "w = 10\n",
    "\n",
    "total = y + x + w\n",
    "total"
   ]
  },
  {
   "cell_type": "markdown",
   "metadata": {},
   "source": [
    "* Blank lines after the comment are also ignored."
   ]
  },
  {
   "cell_type": "code",
   "execution_count": 18,
   "metadata": {},
   "outputs": [
    {
     "data": {
      "text/plain": [
       "30"
      ]
     },
     "execution_count": 18,
     "metadata": {},
     "output_type": "execute_result"
    }
   ],
   "source": [
    "# Getting the sum of values\n",
    "\n",
    "y = 20\n",
    "x = 10\n",
    "\n",
    "total = y + x\n",
    "total"
   ]
  },
  {
   "cell_type": "markdown",
   "metadata": {},
   "source": [
    "* The different ways to write a comment are;\n",
    "\n",
    "    * before the the line of code \n",
    "    * Next to the line of code\n",
    "    * Or as a comment-block (Multiline comment)"
   ]
  },
  {
   "cell_type": "code",
   "execution_count": null,
   "metadata": {},
   "outputs": [],
   "source": [
    "#Multiline Comments"
   ]
  },
  {
   "cell_type": "code",
   "execution_count": 22,
   "metadata": {},
   "outputs": [
    {
     "data": {
      "text/plain": [
       "' Welcome to the\\ndata armory\\nfor python and \\ndata science tutorials'"
      ]
     },
     "execution_count": 22,
     "metadata": {},
     "output_type": "execute_result"
    }
   ],
   "source": [
    "#Multiline Strings for commenting \n",
    "\n",
    "\n",
    "\n",
    "welcome_message = \"\"\" Welcome to the\n",
    "data armory\n",
    "for python and \n",
    "data science tutorials\"\"\"\n",
    "\n",
    "#Multiline Strings for commenting \n",
    "\n",
    "\n",
    "\n",
    "welcome_message = \"\"\" Welcome to the\n",
    "data armory\n",
    "for python and \n",
    "data science tutorials\"\"\"\n",
    "\n",
    "#Multiline Strings for commenting \n",
    "\n",
    "\n",
    "\n",
    "welcome_message = \"\"\" Welcome to the\n",
    "data armory\n",
    "for python and \n",
    "data science tutorials\"\"\"\n",
    "\n",
    "welcome_message\n"
   ]
  },
  {
   "cell_type": "markdown",
   "metadata": {},
   "source": [
    "* Remember to put your comments below or above triple Quoted text/Multiline comments or block string which is a valid python code.\n"
   ]
  },
  {
   "cell_type": "code",
   "execution_count": null,
   "metadata": {},
   "outputs": [],
   "source": [
    "\n",
    "\n",
    "\"\"\" In the university, freshman year  #refers to a first year student\n",
    "\n",
    " sophomore  refers  to a second year students\n",
    "\n",
    " Welcome to the data armory \n",
    " \n",
    " \"\"\"\n",
    "#Multiline comment\n"
   ]
  },
  {
   "cell_type": "markdown",
   "metadata": {},
   "source": [
    "## Reference and Further Reading\n",
    "\n",
    "* Automate the boring stuff by Al Sweigart-https://www.amazon.com/Automate-Boring-Stuff-Python-Programming/dp/1593275994\n",
    "* Python Crash Course By Eric Matthes - https://www.amazon.com/Python-Crash-Course-2nd-Edition/dp/1593279280/ref=sr_1_1?crid=2ANKISKNQPNKH&keywords=Python+Crash+Course+By+Eric+Matthes&qid=1654606797&s=books&sprefix=%2Cstripbooks-intl-ship%2C1078&sr=1-1\n",
    "* Ravikiran AS  \"Comments in Python: Why are They Important And How to Use Them\" https://www.simplilearn.com/tutorials/python-tutorial/comments-in-python#:~:text=Comments%20in%20Python%20are%20identified,a%20multi%2Dline%20comment%20block.\n",
    "* Ihechikara Vincent Abba \"Python Comment Block – How to Comment Out Code in Python\" https://www.freecodecamp.org/news/python-comment-block-how-to-comment-out-code-in-python/\n"
   ]
  },
  {
   "cell_type": "code",
   "execution_count": null,
   "metadata": {},
   "outputs": [],
   "source": []
  },
  {
   "cell_type": "code",
   "execution_count": null,
   "metadata": {},
   "outputs": [],
   "source": []
  },
  {
   "cell_type": "markdown",
   "metadata": {},
   "source": [
    "Many programmers always end up forgetting their code , or write code that is difficult for others to read and that is why  it is important to add comments to your code since you might find yourself in the same situation. In this How to Write Comments in Python tutorial, we  look  at, what is a comment in python, how to create a comment in python, kinds of comments in python  and at the end you will know how to create comments and know why comments are important.\n",
    "\n",
    "===========================================\n",
    "► References and further reading\n",
    "\n",
    "🔗Automate the boring stuff by Al Sweigart-https://www.amazon.com/Automate-Boring-Stuff-Python-Programming/dp/1593275994\n",
    "🔗 Python Crash Course By Eric Matthes - https://www.amazon.com/Python-Crash-Course-2nd-Edition/dp/1593279280/ref=sr_1_1?crid=2ANKISKNQPNKH&keywords=Python+Crash+Course+By+Eric+Matthes&qid=1654606797&s=books&sprefix=%2Cstripbooks-intl-ship%2C1078&sr=1-1\n",
    "🔗 Ravikiran AS  \"Comments in Python: Why are They Important And How to Use Them\" https://www.simplilearn.com/tutorials/python-tutorial/comments-in-python#:~:text=Comments%20in%20Python%20are%20identified,a%20multi%2Dline%20comment%20block.\n",
    "🔗 Ihechikara Vincent Abba \"Python Comment Block – How to Comment Out Code in Python\" https://www.freecodecamp.org/news/python-comment-block-how-to-comment-out-code-in-python/\n",
    "\n",
    "\n",
    "\n",
    "===========================================\n",
    "► Find the notebook used  here:\n",
    "\n",
    "https://www.kaggle.com/everndah/how-to-write-comments-in-python\n",
    "\n",
    "===========================================\n",
    "⏰⏰ Timestamps ⏰⏰\n",
    "\n",
    "0:00 - Intro\n",
    "0:33 - Comments in Python\n",
    "22:11- Outro\n",
    "\n",
    "===========================================\n",
    "► Contact and Follow:\n",
    "Twitter: https://twitter.com/TheDataArmory\n",
    "Email- thedataarmory@gmail.com\n",
    "\n",
    "❤️  Thanks for watching"
   ]
  }
 ],
 "metadata": {
  "kernelspec": {
   "display_name": "Python 3.9.7 ('Dbases')",
   "language": "python",
   "name": "python3"
  },
  "language_info": {
   "codemirror_mode": {
    "name": "ipython",
    "version": 3
   },
   "file_extension": ".py",
   "mimetype": "text/x-python",
   "name": "python",
   "nbconvert_exporter": "python",
   "pygments_lexer": "ipython3",
   "version": "3.9.7 (default, Sep 16 2021, 16:59:28) [MSC v.1916 64 bit (AMD64)]"
  },
  "orig_nbformat": 4,
  "vscode": {
   "interpreter": {
    "hash": "b17775c2dea02fc1f2f42bc92c63d52f2f4aa32e1315bff04d96806d0e68f237"
   }
  }
 },
 "nbformat": 4,
 "nbformat_minor": 2
}
