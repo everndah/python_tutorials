{
 "cells": [
  {
   "cell_type": "markdown",
   "metadata": {},
   "source": [
    "## Variables in Python. \n",
    "\n",
    "**What we are going to study**\n",
    "\n",
    "What is the definition of python variables?\n",
    "\n",
    "**Learning Outcome**\n",
    "\n",
    "* At the end of this study you should be able to know and define a variable.\n",
    "\n",
    "**Prerequisites**\n",
    "\n",
    "* You already have installed a python interpreter.\n",
    "* You already have a code editor/IDE.\n",
    "\n",
    "**What is a Variable in Python**\n",
    "\n",
    "In python a **variable** is a name  that is used to hold/store a **value** or an object .\n",
    "> A **value** in this case,is the information that is stored/linked to a variable. \n",
    "\n",
    "> A value can be a letter(String  of  letters) or a number(Integer).\n",
    "\n",
    "A variable is given a value using the equal sign/ assignment operator.\n",
    "\n",
    "For an assignment statement\n",
    "\n",
    "We need a *variable name,assignment operator and the value*.\n",
    "\n",
    "Example: \n",
    "\n",
    "`text = 'Hello World' (i)`\n",
    "\n",
    "`message = 'Welcome to the Data Armory' (ii)`\n",
    "\n",
    "`score = 12 (iii)`\n",
    "\n",
    "NB: \n",
    "- The type of variable will be  the type of value that it  refers to.\n",
    "- Once Stored you can use it anywhere else.\n",
    "\n"
   ]
  },
  {
   "cell_type": "markdown",
   "metadata": {},
   "source": [
    "* You can always assign different values to different variables.\n",
    "* You can also assign one value to different varibles.\n",
    "\n",
    "`a,b,c = 10,'come','again!' (iv)`\n",
    "\n",
    "`d=e= f = 100 (v)`"
   ]
  },
  {
   "cell_type": "markdown",
   "metadata": {},
   "source": [
    "Next we shall look at a few rules and guidelines for naming variables"
   ]
  },
  {
   "cell_type": "markdown",
   "metadata": {},
   "source": [
    "## References\n",
    "Automate the Boring Stuff with Python by Al Sweigart\n",
    "\n",
    "Python Crash Course: A Hands-On, Project-Based Introduction to Programming by Eric Matthes\n",
    "\n",
    "Python for Everybody: Exploring Data Using Python 3 by Charles Severance\n"
   ]
  }
 ],
 "metadata": {
  "interpreter": {
   "hash": "263930470851f494f0ed2879c35b57985588df20f9e529b86e97dd5eb9ddc466"
  },
  "kernelspec": {
   "display_name": "Python 3.9.7 ('base')",
   "language": "python",
   "name": "python3"
  },
  "language_info": {
   "codemirror_mode": {
    "name": "ipython",
    "version": 3
   },
   "file_extension": ".py",
   "mimetype": "text/x-python",
   "name": "python",
   "nbconvert_exporter": "python",
   "pygments_lexer": "ipython3",
   "version": "3.9.7"
  },
  "orig_nbformat": 4
 },
 "nbformat": 4,
 "nbformat_minor": 2
}
