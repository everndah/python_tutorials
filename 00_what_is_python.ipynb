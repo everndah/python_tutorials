{
 "cells": [
  {
   "cell_type": "markdown",
   "id": "41ba58cc",
   "metadata": {},
   "source": [
    "## What we will learn in this tutorial?\n",
    "\n",
    "* What is python?\n",
    "* Why python?\n",
    "* The Downside Of Python.\n",
    "* What is python used for?\n",
    "* Why python is good for Data Science?\n",
    "\n",
    "\n",
    "# What is python?\n",
    "\n",
    "* Python is a programming language that allows one to work more quickly and intergrate their systems more easily.\n",
    "* According A L S W E I G A R T, Python is a language with syntax rules for writing what is deemed as valid python code and the python interpreater which goes ahead to read the source code which has been written in python langauge and goes on to perform its instructions.\n",
    "\n",
    "> It is interesting to note that there are over 250 programming languages in the world and from that fact alone, one would wish to know why pick on python.\n",
    "\n",
    "**Fun Fact:** The name python does not come from the snake.It comes from a British comedy group that was called Monty Python.\n",
    "\n",
    "\n",
    "#### Why python?\n",
    "\n",
    "* Python is a language that is easy to pick,understand and remember and more so for beginners(first time programmers).The simplicity does not in any way limit the functional possibilities of the language.\n",
    "* It is also efficient in that it enables programs to achieve more with a few lines of code compared to other languages.\n",
    "* It is also essential in that one writes codes that is easy to read and also easy to debug.It's readability means that it is easily reusable and maintainable.\n",
    "> Debugging means identifying and removing errors in a code.\n",
    "* Python has become very popular and that means that it has got a very large community.\n",
    "* Above most of the reasons for its use, the quality and productivity of the code sets it apart.\n",
    "\n",
    "#### The Downside Of  Python\n",
    "\n",
    "* Something that has been mentioned oftenly as the downside is the execution speed of Python.That is when compared to other languages like C and C++.\n",
    "\n",
    "#### What is python used for?\n",
    "\n",
    "* Python is used to make games,build web applications and it is also used for academic reserach and applied work.\n",
    "* It can also be used to automate tasks,perform calculations among many other uses.Talking about automation of tasks  then an example can be renaming and rearranging a bunch of photo files.\n",
    "> It would be essential to note that though python is used in calculations one does not need to be a genius in maths for them to be a good programmers.\n",
    "\n",
    "#### Why python is good  for Data Science.\n",
    "\n",
    "* The popularity of python makes it have a lot of libraries and most of these libaraies are geared towards data analytics and machine learning.\n",
    "> Examples of these libraries are pandas,numpy,scipy and many others.\n",
    "\n",
    "_The best way to learn a language is to use it, and in subsequent sessions, we shall be learning how to use the language._\n",
    "\n",
    "## Sources:\n",
    "\n",
    "* https://towardsdatascience.com/top-10-resources-to-become-a-data-scientist-in-2020-99a315194701\n",
    "\n",
    "* Automate The Boring Stuff By A L S W E I G A R T\n",
    "\n",
    "* Python Crash Course By Eric Matthes\n",
    "\n",
    "* https://docs.python.org/3/tutorial/\n",
    "\n",
    "* https://docs.python.org/3/faq/general.html#what-is-python\n",
    "\n",
    "* Learning Python By  Mark Lutz\n"
   ]
  },
  {
   "cell_type": "code",
   "execution_count": null,
   "id": "a711ae2f",
   "metadata": {},
   "outputs": [],
   "source": []
  },
  {
   "cell_type": "code",
   "execution_count": null,
   "id": "4ea9a289",
   "metadata": {},
   "outputs": [],
   "source": []
  }
 ],
 "metadata": {
  "kernelspec": {
   "display_name": "Python 3 (ipykernel)",
   "language": "python",
   "name": "python3"
  },
  "language_info": {
   "codemirror_mode": {
    "name": "ipython",
    "version": 3
   },
   "file_extension": ".py",
   "mimetype": "text/x-python",
   "name": "python",
   "nbconvert_exporter": "python",
   "pygments_lexer": "ipython3",
   "version": "3.8.12"
  }
 },
 "nbformat": 4,
 "nbformat_minor": 5
}
