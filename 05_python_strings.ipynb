{
 "cells": [
  {
   "attachments": {},
   "cell_type": "markdown",
   "metadata": {},
   "source": [
    "# Python Strings Learning Outcome\n",
    "\n",
    "At the end of this tutorial, you will be able to:\n",
    "\n",
    "- Know what is a string.\n",
    "- Access and extract parts of strings.\n",
    "- Manipulate and modify string data using various methods.\n",
    "- Use both single and double quotes in strings without disrupting the string.\n",
    "- Use escape characters for special characters such as quotation marks.\n",
    "- Create powerful and efficient programs using strings.\n",
    "- Format text, create patterns, and even encrypt data with strings.\n"
   ]
  },
  {
   "attachments": {},
   "cell_type": "markdown",
   "metadata": {},
   "source": [
    "### Use of Python Strings\n",
    "\n",
    "- Python strings can be used for [Natural Language Processing(NLP)](https://www.digitalocean.com/community/tutorials/how-to-perform-sentiment-analysis-in-python-3-using-the-natural-language-toolkit-nltk#step-4-removing-noise-from-the-data) by tokenizing text, which involves breaking down a string into smaller, more manageable pieces such as words, phrases, or sentences.  One of the most basic examples is the use of the .split().These tokens can then be analyzed and assigned meaning or sentiment.\n",
    "- Additionally, Python strings can be used for text pre-processing, which involves converting words to their base forms in order to improve accuracy when performing NLP tasks.  This may involve Removing punctuations like .?&@.  Or, Converting text into the same case using the`.lower()`\n",
    "- Python strings can also be used for named entity recognition, which involves identifying and classifying named entities such as people, places, organizations, and dates.\n",
    "- Python strings can be used for sentiment analysis, which involves determining the sentiment of a given text, such as whether it expresses positive or negative opinions."
   ]
  },
  {
   "attachments": {},
   "cell_type": "markdown",
   "metadata": {},
   "source": [
    "### What is a String?\n",
    "\n",
    "- In Python A string is a sequence of characters. No more, no less.\n",
    "- In Python, anything inside quotation marks is referred to as a \"string\". \n",
    "* You can use either single or double quotes.\n",
    "- Using double quotes has the advantage of allowing a single quote character to be included in the string."
   ]
  },
  {
   "attachments": {},
   "cell_type": "markdown",
   "metadata": {},
   "source": [
    "**#Double Quotes**"
   ]
  },
  {
   "cell_type": "code",
   "execution_count": null,
   "metadata": {},
   "outputs": [],
   "source": [
    "#Code Example\n",
    "\n"
   ]
  },
  {
   "attachments": {},
   "cell_type": "markdown",
   "metadata": {},
   "source": [
    "#### #String  Operators\n",
    "\n",
    "**The `+` operator**\n",
    "\n",
    "- The `+` operator combines two strings into one(Concatenates)"
   ]
  },
  {
   "cell_type": "code",
   "execution_count": null,
   "metadata": {},
   "outputs": [],
   "source": [
    "#Code Example\n",
    "\n"
   ]
  },
  {
   "attachments": {},
   "cell_type": "markdown",
   "metadata": {},
   "source": [
    "* If several string literals are placed together, they will be combined into a single string."
   ]
  },
  {
   "cell_type": "code",
   "execution_count": null,
   "metadata": {},
   "outputs": [],
   "source": [
    "#Code Example"
   ]
  },
  {
   "attachments": {},
   "cell_type": "markdown",
   "metadata": {},
   "source": [
    "* This feature is especially helpful when needing to divide long strings.\n",
    "* NB: Put  strings within parentheses."
   ]
  },
  {
   "cell_type": "code",
   "execution_count": null,
   "metadata": {},
   "outputs": [],
   "source": [
    "#Code Example"
   ]
  },
  {
   "attachments": {},
   "cell_type": "markdown",
   "metadata": {},
   "source": [
    "* It is not possible to concatenate a variable and a string literal."
   ]
  },
  {
   "cell_type": "code",
   "execution_count": null,
   "metadata": {},
   "outputs": [],
   "source": [
    "#Code Example\n"
   ]
  },
  {
   "attachments": {},
   "cell_type": "markdown",
   "metadata": {},
   "source": [
    "* Use the + operator to concatenate variables or a variable and a literal."
   ]
  },
  {
   "attachments": {},
   "cell_type": "markdown",
   "metadata": {},
   "source": [
    "### String indexing"
   ]
  },
  {
   "attachments": {},
   "cell_type": "markdown",
   "metadata": {},
   "source": [
    "\n",
    "\n",
    "* The bracket `[]` operator allows us to access individual characters in a string. \n",
    "* It takes an index as an argument and returns the character at that position in the string. \n",
    "\n",
    "* For example,lets get the first letter of the string `name`."
   ]
  },
  {
   "cell_type": "code",
   "execution_count": null,
   "metadata": {},
   "outputs": [],
   "source": [
    "#Code Example"
   ]
  },
  {
   "attachments": {},
   "cell_type": "markdown",
   "metadata": {},
   "source": [
    "* Python strings are indexed from left to right, with the first character at index 0, the second at index 1, and so on.\n",
    "* You can access a specific character in a string using indexing, such as `my_string[0]` to get the first character."
   ]
  },
  {
   "cell_type": "code",
   "execution_count": null,
   "metadata": {},
   "outputs": [],
   "source": [
    "#Code Example\n",
    "\n"
   ]
  },
  {
   "attachments": {},
   "cell_type": "markdown",
   "metadata": {},
   "source": [
    "* We can also use negative indices to access characters from the end of the string."
   ]
  },
  {
   "cell_type": "code",
   "execution_count": 43,
   "metadata": {},
   "outputs": [],
   "source": [
    "#Code Example\n",
    "\n",
    " "
   ]
  },
  {
   "attachments": {},
   "cell_type": "markdown",
   "metadata": {},
   "source": [
    "* `string[:i] + string [i:]` will be equal to string "
   ]
  },
  {
   "cell_type": "code",
   "execution_count": null,
   "metadata": {},
   "outputs": [],
   "source": []
  },
  {
   "attachments": {},
   "cell_type": "markdown",
   "metadata": {},
   "source": [
    "* Negative indices begin with -1, and `-0` is equivalent to `0`."
   ]
  },
  {
   "cell_type": "code",
   "execution_count": 40,
   "metadata": {},
   "outputs": [
    {
     "data": {
      "text/plain": [
       "'J'"
      ]
     },
     "execution_count": 40,
     "metadata": {},
     "output_type": "execute_result"
    }
   ],
   "source": [
    "#Code Example\n"
   ]
  },
  {
   "attachments": {},
   "cell_type": "markdown",
   "metadata": {},
   "source": [
    "\n",
    "**The `*`operator** \n",
    "\n",
    "* In Python, **the `*`operator** can be used to create multiple copies of a string. Here are some examples:"
   ]
  },
  {
   "cell_type": "code",
   "execution_count": null,
   "metadata": {},
   "outputs": [],
   "source": [
    "#Code Example"
   ]
  },
  {
   "attachments": {},
   "cell_type": "markdown",
   "metadata": {},
   "source": [
    "### Escape Characters"
   ]
  },
  {
   "attachments": {},
   "cell_type": "markdown",
   "metadata": {},
   "source": [
    "\n",
    "\n",
    "- To use both single and double quotes in a string, you must use escape characters.\n",
    "- An escape character enables you to use characters that would otherwise be impossible to include in a string.\n",
    "- An escape character is a backslash \\ followed by the desired character to be included in the string. This allows for special characters, such as quotation marks, to be used without disrupting the string.\n",
    "\n"
   ]
  },
  {
   "cell_type": "code",
   "execution_count": null,
   "metadata": {},
   "outputs": [],
   "source": [
    "''' \\' To add a Single quote\n",
    "car = 'This is Mr. Ken\\'s car'\n",
    "\n",
    "\\\" To add Double quote\n",
    "her_husband = \"He is a \\\"good\\\" man\"\n",
    "\n",
    "\\t To add Tab\n",
    "welcome_message = 'How did you know\\tAbout the data Armory\\tMake sure you share and subscribe'\n",
    "\n",
    "\\n To add a Newline (line break)\n",
    "welcome_message = 'How did you know\\nAbout the data Armory\\nMake sure you share and subscribe'\n",
    "\n",
    "\\\\ To use Backslash\n",
    "back_slash = ' An escape character is a backslash \\\\' '''"
   ]
  },
  {
   "cell_type": "code",
   "execution_count": null,
   "metadata": {},
   "outputs": [],
   "source": [
    "#Code Example"
   ]
  },
  {
   "attachments": {},
   "cell_type": "markdown",
   "metadata": {},
   "source": [
    "* Without the use of print(), a new line character (\\n) will be included in the output."
   ]
  },
  {
   "cell_type": "code",
   "execution_count": null,
   "metadata": {},
   "outputs": [],
   "source": [
    "#Code Example\n",
    "welcome_message = 'How did you know\\nAbout the data Armory\\nMake sure you share and subscribe'\n",
    "print(welcome_message)\n",
    "\n"
   ]
  },
  {
   "attachments": {},
   "cell_type": "markdown",
   "metadata": {},
   "source": [
    "* A backslash can be placed at the end of a line to ignore the newline character.\n",
    "* A backslash \\ indicates that the current line should be continued on the next line. \n",
    "* It is used to break up a long line of code into smaller sections for readability."
   ]
  },
  {
   "cell_type": "code",
   "execution_count": null,
   "metadata": {},
   "outputs": [],
   "source": [
    "#Code example\n",
    "\n"
   ]
  },
  {
   "cell_type": "markdown",
   "metadata": {},
   "source": []
  },
  {
   "attachments": {},
   "cell_type": "markdown",
   "metadata": {},
   "source": [
    "### Raw Strings"
   ]
  },
  {
   "attachments": {},
   "cell_type": "markdown",
   "metadata": {},
   "source": [
    "\n",
    "\n",
    "- A raw string ignores all escape characters and prints any backslash it contains. No special treatment is given to the backslash."
   ]
  },
  {
   "cell_type": "code",
   "execution_count": null,
   "metadata": {},
   "outputs": [],
   "source": [
    "#Code Example"
   ]
  },
  {
   "attachments": {},
   "cell_type": "markdown",
   "metadata": {},
   "source": [
    "* There is an important consideration when using raw strings, which is that it cannot end with an uneven number of \\ characters."
   ]
  },
  {
   "cell_type": "code",
   "execution_count": null,
   "metadata": {},
   "outputs": [],
   "source": [
    "#Code Example\n",
    "\n",
    "welcome_message = r'How did you know\\ About the data Armory\\ Make sure you share and subscribe\\'\n",
    "print(welcome_message)\n"
   ]
  },
  {
   "attachments": {},
   "cell_type": "markdown",
   "metadata": {},
   "source": [
    "* How to end a raw string with an odd number of backslashes."
   ]
  },
  {
   "cell_type": "code",
   "execution_count": null,
   "metadata": {},
   "outputs": [],
   "source": [
    "#Use regular strings and double the backslashes:\n",
    "\n",
    "welcome_message = 'How did you know\\\\About the data Armory\\\\Make sure you share and subscribe\\\\'\n",
    "print(welcome_message)\n"
   ]
  },
  {
   "cell_type": "code",
   "execution_count": null,
   "metadata": {},
   "outputs": [],
   "source": [
    "welcome_message = 'How did you know\\\\About the data Armory\\\\Make sure you share and subscribe\\\\'\n",
    "print(welcome_message)"
   ]
  },
  {
   "attachments": {},
   "cell_type": "markdown",
   "metadata": {},
   "source": [
    "**#len function**\n",
    "\n",
    "- The len() function can be used to determine the number of characters in a string. In this case, using the len() function on the string `name` would return the value `12`."
   ]
  },
  {
   "cell_type": "code",
   "execution_count": null,
   "metadata": {},
   "outputs": [],
   "source": [
    "#Code Example"
   ]
  },
  {
   "attachments": {},
   "cell_type": "markdown",
   "metadata": {},
   "source": [
    "**#Stripping Whitespace**\n",
    "\n",
    "- The `rstrip()` method can be used to remove any extra whitespace from the right end of a string. For example:"
   ]
  },
  {
   "cell_type": "code",
   "execution_count": null,
   "metadata": {},
   "outputs": [],
   "source": [
    "#Code Example\n",
    "\n",
    "name = \"Languages:\\n\\tPython\\n\\tC\\n\\tJavaScript\"\n",
    "print(name.strip())"
   ]
  },
  {
   "attachments": {},
   "cell_type": "markdown",
   "metadata": {},
   "source": [
    "**#Multiline String**\n",
    "\n",
    "- String literals can span multiple lines and are delimited by either three single quotes or three double quotes. For example, to create a multiline string in Python we can write:"
   ]
  },
  {
   "cell_type": "code",
   "execution_count": null,
   "metadata": {},
   "outputs": [],
   "source": [
    "#Code Example"
   ]
  },
  {
   "attachments": {},
   "cell_type": "markdown",
   "metadata": {},
   "source": [
    "**#String slices**\n",
    "\n",
    "* Python allows for string slicing, which means accessing a specific portion of a string. \n",
    "\n",
    "* Like lists, strings in Python can be accessed using indexes and slices. The syntax for slicing a string is the same as slicing a list, with the start and end indices separated by a colon. For example, `string[0]` would return the first character of the string, while `string[0:3]` would return the first three characters. The syntax is as follows:\n",
    "\n",
    "* Because Python (like many programming languages) uses [zero-based indexing](https://en.wikipedia.org/wiki/Zero-based_numbering#:~:text=Zero%2Dbased%20numbering%20is%20a,mathematical%20or%20non%2Dprogramming%20circumstances.)\n",
    "\n"
   ]
  },
  {
   "cell_type": "code",
   "execution_count": null,
   "metadata": {},
   "outputs": [],
   "source": [
    "string[start:end]"
   ]
  },
  {
   "cell_type": "code",
   "execution_count": null,
   "metadata": {},
   "outputs": [
    {
     "ename": "",
     "evalue": "",
     "output_type": "error",
     "traceback": [
      "\u001b[1;31mFailed to start the Kernel. \n",
      "\u001b[1;31mUnable to start Kernel 'Dbases (Python 3.9.7)' due to connection timeout. \n",
      "\u001b[1;31mView Jupyter <a href='command:jupyter.viewOutput'>log</a> for further details."
     ]
    }
   ],
   "source": [
    "#Code Example"
   ]
  },
  {
   "attachments": {},
   "cell_type": "markdown",
   "metadata": {},
   "source": [
    "* In Python you can capture a slice from one string variable and store it in a separate string variable using slicing notation. \n",
    "* For example, to capture the first three characters of the string variable `name` and store it in a separate variable `first_three`, you can use the following code:"
   ]
  },
  {
   "cell_type": "code",
   "execution_count": null,
   "metadata": {},
   "outputs": [],
   "source": [
    "#Code Example"
   ]
  },
  {
   "attachments": {},
   "cell_type": "markdown",
   "metadata": {},
   "source": [
    "Points to Note:\n",
    "\n",
    "* Negative indexing and slicing: You can also index and slice strings from right to left using negative indices. For example, **`my_string[-1]`** would give you the last character, and **`my_string[-4:-1]`** would give you a substring starting from the fourth character from the end and ending at the second-to-last.\n",
    "* Slice step: You can also specify a step size in the slice, which allows you to skip characters in the string. For example, **`my_string[0:6:2]`** would give you every other character from the first to the fifth character.\n",
    "* Immutable strings: It's important to remember that strings in Python are immutable, which means you cannot modify them directly. However, you can create new strings by concatenating or slicing existing strings.\n"
   ]
  },
  {
   "cell_type": "code",
   "execution_count": null,
   "metadata": {},
   "outputs": [],
   "source": [
    "#Code Example"
   ]
  },
  {
   "attachments": {},
   "cell_type": "markdown",
   "metadata": {},
   "source": [
    "- Using negative numbers can be useful when working with strings of unknown length or when you want to access characters starting from the end of the string."
   ]
  },
  {
   "cell_type": "code",
   "execution_count": null,
   "metadata": {},
   "outputs": [],
   "source": [
    "#Code Example"
   ]
  },
  {
   "attachments": {},
   "cell_type": "markdown",
   "metadata": {},
   "source": [
    "- You can reverse a string using slicing by specifying a step of -1. For example:"
   ]
  },
  {
   "cell_type": "code",
   "execution_count": null,
   "metadata": {},
   "outputs": [],
   "source": [
    "#Code Example"
   ]
  },
  {
   "attachments": {},
   "cell_type": "markdown",
   "metadata": {},
   "source": [
    "* You can also use indexing to combine strings. "
   ]
  },
  {
   "cell_type": "code",
   "execution_count": null,
   "metadata": {},
   "outputs": [],
   "source": [
    "#Code Example"
   ]
  },
  {
   "attachments": {},
   "cell_type": "markdown",
   "metadata": {},
   "source": [
    "**#The in and not in Operators** \n",
    "\n",
    "* The `in` and `not in` operators in Python can be used to check if a substring is present or absent, respectively, in a given string. \n",
    "* The operator returns a boolean value (`True` or `False`) based on whether the substring is found in the string or not. "
   ]
  },
  {
   "cell_type": "code",
   "execution_count": null,
   "metadata": {},
   "outputs": [],
   "source": [
    "#Simple Looping and counting program;"
   ]
  },
  {
   "cell_type": "code",
   "execution_count": null,
   "metadata": {},
   "outputs": [],
   "source": [
    "# using the in operator\n",
    "\n"
   ]
  },
  {
   "cell_type": "code",
   "execution_count": null,
   "metadata": {},
   "outputs": [],
   "source": [
    "# using the not in operator"
   ]
  },
  {
   "cell_type": "markdown",
   "metadata": {},
   "source": [
    "- These operators can be useful for various string operations, such as searching for a specific substring or checking if a password meets certain requirements.\n",
    "- These membership operators can be used with a wide range of Python objects that support membership testing, such as lists, tuples, sets, dictionaries, and strings."
   ]
  },
  {
   "cell_type": "code",
   "execution_count": null,
   "metadata": {},
   "outputs": [],
   "source": [
    "#Password\n",
    "\n",
    "name = input('Enter your name here')\n",
    "\n",
    "if name == 'Peter':\n",
    "    print(\"Thank your for logging in\")"
   ]
  },
  {
   "attachments": {},
   "cell_type": "markdown",
   "metadata": {},
   "source": [
    "**#String Comparison**\n",
    "\n",
    "* To check if two strings are equal, you can use the `==` operator. For example:"
   ]
  },
  {
   "cell_type": "code",
   "execution_count": null,
   "metadata": {},
   "outputs": [],
   "source": [
    "#Code Example"
   ]
  },
  {
   "attachments": {},
   "cell_type": "markdown",
   "metadata": {},
   "source": [
    "* To check if two strings are not equal, you can use the **`!=`** operator. For example, **`if my_string1 != my_string2:`** will evaluate to **`True`** if **`my_string1`** is not equal to **`my_string2`**."
   ]
  },
  {
   "cell_type": "code",
   "execution_count": null,
   "metadata": {},
   "outputs": [],
   "source": [
    "#Code Example"
   ]
  },
  {
   "attachments": {},
   "cell_type": "markdown",
   "metadata": {},
   "source": [
    "* String comparison: You can also compare two strings to determine which one is greater or lesser than the other, based on their [ASCII values.](https://www.cs.cmu.edu/~pattis/15-1XX/common/handouts/ascii.html) For example, **`if my_string1 < my_string2:`** will evaluate to **`True`** if **`my_string1`** comes before **`my_string2`** in alphabetical order."
   ]
  },
  {
   "cell_type": "code",
   "execution_count": null,
   "metadata": {},
   "outputs": [],
   "source": [
    "#Code Example"
   ]
  },
  {
   "attachments": {},
   "cell_type": "markdown",
   "metadata": {},
   "source": [
    "\n",
    "\n",
    "* Case sensitivity: By default, string comparison in Python is case-sensitive, which means that \"apple\" and \"Apple\" are considered different strings. \n",
    "\n",
    "* If you want to perform a case-insensitive comparison, you can convert the strings to lowercase or uppercase using the **`lower()`** or **`upper()`** method before comparing them.\n",
    "\n",
    "* By mastering these techniques for comparing strings in Python, you can effectively perform conditional checks and string operations in your code."
   ]
  },
  {
   "attachments": {},
   "cell_type": "markdown",
   "metadata": {},
   "source": [
    "### String Methods\n",
    "\n",
    "* Several string methods can be used to analyze strings or create transformed string values. This section describes the methods that you will use most frequently.\n",
    "\n",
    "* Here are some examples of Python string methods:"
   ]
  },
  {
   "cell_type": "code",
   "execution_count": null,
   "metadata": {},
   "outputs": [],
   "source": []
  },
  {
   "attachments": {},
   "cell_type": "markdown",
   "metadata": {},
   "source": [
    "* For more information on these and other string methods in Python, see [the official Python documentation.](https://docs.python.org/3/library/stdtypes.html#string-methods)"
   ]
  },
  {
   "attachments": {},
   "cell_type": "markdown",
   "metadata": {},
   "source": [
    "**#Strings are immutable**\n",
    "\n",
    "* In Python, strings are immutable. This means that once a string is created, it cannot be modified. \n",
    "* Any operation that appears to modify a string actually creates a new string. Here are some examples:\n"
   ]
  },
  {
   "cell_type": "code",
   "execution_count": null,
   "metadata": {},
   "outputs": [],
   "source": []
  },
  {
   "cell_type": "code",
   "execution_count": null,
   "metadata": {},
   "outputs": [],
   "source": []
  },
  {
   "attachments": {},
   "cell_type": "markdown",
   "metadata": {},
   "source": [
    "* Some string methods that have names beginning with the word \"is\" include:"
   ]
  },
  {
   "cell_type": "code",
   "execution_count": null,
   "metadata": {},
   "outputs": [],
   "source": []
  },
  {
   "attachments": {},
   "cell_type": "markdown",
   "metadata": {},
   "source": [
    "**#Strings are immutable**\n",
    "\n",
    "* In Python, strings are immutable. This means that once a string is created, it cannot be modified. Any operation that appears to modify a string actually creates a new string. Here are some examples:"
   ]
  },
  {
   "attachments": {},
   "cell_type": "markdown",
   "metadata": {},
   "source": [
    "**#The `dir()` on strings**\n",
    "\n",
    "* The `dir()` function in Python returns a list of all the available attributes and methods of an object. Here are some code examples using `dir()` on strings:"
   ]
  },
  {
   "cell_type": "code",
   "execution_count": null,
   "metadata": {},
   "outputs": [],
   "source": [
    "name = 'ken'"
   ]
  },
  {
   "attachments": {},
   "cell_type": "markdown",
   "metadata": {},
   "source": [
    "* The output of dir() on a string object will also include a number of string attributes, such as __class__, __doc__, and __len__(). These attributes can be used to obtain information about the string object, such as its class, documentation, or length."
   ]
  },
  {
   "attachments": {},
   "cell_type": "markdown",
   "metadata": {},
   "source": [
    "* You can use the built-in help() function. Simply pass the attribute or method as an argument to help(), and it will display the documentation and usage information for that attribute or method."
   ]
  },
  {
   "cell_type": "code",
   "execution_count": null,
   "metadata": {},
   "outputs": [],
   "source": [
    "#Code Example"
   ]
  },
  {
   "attachments": {},
   "cell_type": "markdown",
   "metadata": {},
   "source": [
    "### String Formatting "
   ]
  },
  {
   "attachments": {},
   "cell_type": "markdown",
   "metadata": {},
   "source": [
    "**The % operator**(Old Way)\n",
    "\n",
    "* The % operator in Python is used to format strings by replacing placeholders with the values of variables. "
   ]
  },
  {
   "cell_type": "code",
   "execution_count": 40,
   "metadata": {},
   "outputs": [
    {
     "name": "stdout",
     "output_type": "stream",
     "text": [
      "My name is Ken.\n"
     ]
    }
   ],
   "source": [
    "\n",
    "print(\"My name is {}.\" . format('Ken'))\n"
   ]
  },
  {
   "cell_type": "code",
   "execution_count": 41,
   "metadata": {},
   "outputs": [
    {
     "name": "stdout",
     "output_type": "stream",
     "text": [
      "my name is Jerry\n"
     ]
    }
   ],
   "source": [
    "name = 'Jerry'\n",
    "print(f'my name is {name}')"
   ]
  },
  {
   "attachments": {},
   "cell_type": "markdown",
   "metadata": {},
   "source": []
  },
  {
   "attachments": {},
   "cell_type": "markdown",
   "metadata": {},
   "source": [
    "## References and Further Reading.\n",
    "\n",
    "https://www.digitalocean.com/community/tutorials/how-to-perform-sentiment-analysis-in-python-3-using-the-natural-language-toolkit-nltk#step-4-removing-noise-from-the-data\n",
    "\n",
    "https://realpython.com/python-string-formatting/#1-old-style-string-formatting-operator\n",
    "\n"
   ]
  }
 ],
 "metadata": {
  "kernelspec": {
   "display_name": "Dbases",
   "language": "python",
   "name": "python3"
  },
  "language_info": {
   "codemirror_mode": {
    "name": "ipython",
    "version": 3
   },
   "file_extension": ".py",
   "mimetype": "text/x-python",
   "name": "python",
   "nbconvert_exporter": "python",
   "pygments_lexer": "ipython3",
   "version": "3.9.7"
  },
  "orig_nbformat": 4,
  "vscode": {
   "interpreter": {
    "hash": "b17775c2dea02fc1f2f42bc92c63d52f2f4aa32e1315bff04d96806d0e68f237"
   }
  }
 },
 "nbformat": 4,
 "nbformat_minor": 2
}
