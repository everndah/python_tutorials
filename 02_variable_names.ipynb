{
 "cells": [
  {
   "cell_type": "markdown",
   "metadata": {},
   "source": [
    "# Variable Names Rules and Guidelines"
   ]
  },
  {
   "cell_type": "markdown",
   "metadata": {},
   "source": [
    "## Outline\n",
    "\n",
    "* Introduction\n",
    "* Variable Names Rules and Guidelines\n",
    "* Python keywords and built in functions\n",
    "* Conclusion\n",
    "\n",
    "## Learning Outcomes\n",
    "\n",
    "* Know the importance of variable names rules and guidelines.\n",
    "* Be able to use the rules  and guidelines."
   ]
  },
  {
   "cell_type": "markdown",
   "metadata": {},
   "source": [
    "## Introduction  \n",
    "\n",
    "* We have to agree that variables names are an essential part of the source code and meaningful names are important when it comes to program comprehension.\n",
    "*  They serve as an implied documentation that should convey to the reader;\n",
    "                    \n",
    "                    > The meaning of the code.\n",
    " \n",
    "                    > The intention of the writer.\n",
    "                    \n",
    "* Considering that sometimes names are the only documentation, then  clean code  approach should be highly regarded. \n",
    "* Therefore, it is important to devote a considerable amount of time to the issue of variable naming and therefore  the variable names and rules. [Source](https://arxiv.org/pdf/2103.07487.pdf)\n",
    "\n"
   ]
  },
  {
   "cell_type": "markdown",
   "metadata": {},
   "source": [
    "## Variable Names Rules\n",
    "\n",
    "* A variable name *CAN* be one word, though not a Must\n",
    "\n"
   ]
  },
  {
   "cell_type": "code",
   "execution_count": 2,
   "metadata": {},
   "outputs": [],
   "source": [
    "student  = 'Ken'"
   ]
  },
  {
   "cell_type": "code",
   "execution_count": 3,
   "metadata": {},
   "outputs": [
    {
     "data": {
      "text/plain": [
       "'Ken'"
      ]
     },
     "execution_count": 3,
     "metadata": {},
     "output_type": "execute_result"
    }
   ],
   "source": [
    "student"
   ]
  },
  {
   "cell_type": "markdown",
   "metadata": {},
   "source": [
    "* You *SHOULD* separate words with underscores and not spaces."
   ]
  },
  {
   "cell_type": "code",
   "execution_count": 4,
   "metadata": {},
   "outputs": [],
   "source": [
    "student_name = 'Ken'"
   ]
  },
  {
   "cell_type": "code",
   "execution_count": 5,
   "metadata": {},
   "outputs": [
    {
     "data": {
      "text/plain": [
       "'Ken'"
      ]
     },
     "execution_count": 5,
     "metadata": {},
     "output_type": "execute_result"
    }
   ],
   "source": [
    "student_name"
   ]
  },
  {
   "cell_type": "code",
   "execution_count": 6,
   "metadata": {},
   "outputs": [],
   "source": [
    "student_name = 'George'"
   ]
  },
  {
   "cell_type": "code",
   "execution_count": 7,
   "metadata": {},
   "outputs": [
    {
     "data": {
      "text/plain": [
       "'George'"
      ]
     },
     "execution_count": 7,
     "metadata": {},
     "output_type": "execute_result"
    }
   ],
   "source": [
    "student_name "
   ]
  },
  {
   "cell_type": "markdown",
   "metadata": {},
   "source": [
    "* When naming variable's we *SHOULD* only use alpha-numeric characters (letters and numbers) and the underscore character.\n"
   ]
  },
  {
   "cell_type": "code",
   "execution_count": 8,
   "metadata": {},
   "outputs": [],
   "source": [
    "student_1 = 'Mary'"
   ]
  },
  {
   "cell_type": "code",
   "execution_count": 9,
   "metadata": {},
   "outputs": [
    {
     "data": {
      "text/plain": [
       "'Mary'"
      ]
     },
     "execution_count": 9,
     "metadata": {},
     "output_type": "execute_result"
    }
   ],
   "source": [
    "student_1"
   ]
  },
  {
   "cell_type": "code",
   "execution_count": 10,
   "metadata": {},
   "outputs": [
    {
     "ename": "SyntaxError",
     "evalue": "invalid syntax (Temp/ipykernel_13644/1450188814.py, line 1)",
     "output_type": "error",
     "traceback": [
      "\u001b[1;36m  File \u001b[1;32m\"C:\\Users\\USER\\AppData\\Local\\Temp/ipykernel_13644/1450188814.py\"\u001b[1;36m, line \u001b[1;32m1\u001b[0m\n\u001b[1;33m    student* = 'Caro'\u001b[0m\n\u001b[1;37m             ^\u001b[0m\n\u001b[1;31mSyntaxError\u001b[0m\u001b[1;31m:\u001b[0m invalid syntax\n"
     ]
    }
   ],
   "source": [
    "student* = 'Caro'"
   ]
  },
  {
   "cell_type": "markdown",
   "metadata": {},
   "source": [
    "* You *SHOULD NOT* start a variable name with a number,but can start with a letter  or an underscore character.\n",
    "\n",
    "    > Breaking this rule will give you an invalid decimal literal or syntax error"
   ]
  },
  {
   "cell_type": "code",
   "execution_count": null,
   "metadata": {},
   "outputs": [
    {
     "ename": "SyntaxError",
     "evalue": "invalid decimal literal (Temp/ipykernel_8540/1713110015.py, line 1)",
     "output_type": "error",
     "traceback": [
      "\u001b[1;36m  File \u001b[1;32m\"C:\\Users\\USER\\AppData\\Local\\Temp/ipykernel_8540/1713110015.py\"\u001b[1;36m, line \u001b[1;32m1\u001b[0m\n\u001b[1;33m    1_student = 'Henry'\u001b[0m\n\u001b[1;37m     ^\u001b[0m\n\u001b[1;31mSyntaxError\u001b[0m\u001b[1;31m:\u001b[0m invalid decimal literal\n"
     ]
    }
   ],
   "source": [
    "1_student = 'Henry'"
   ]
  },
  {
   "cell_type": "code",
   "execution_count": null,
   "metadata": {},
   "outputs": [],
   "source": [
    "_student = 'John'"
   ]
  },
  {
   "cell_type": "code",
   "execution_count": null,
   "metadata": {},
   "outputs": [
    {
     "data": {
      "text/plain": [
       "'John'"
      ]
     },
     "execution_count": 20,
     "metadata": {},
     "output_type": "execute_result"
    }
   ],
   "source": [
    "_student"
   ]
  },
  {
   "cell_type": "markdown",
   "metadata": {},
   "source": [
    "* A variable name *SHOULD* start with a letter or the underscore character."
   ]
  },
  {
   "cell_type": "markdown",
   "metadata": {},
   "source": [
    "* You *SHOULD NOT* use python keywords and function names as variable names."
   ]
  },
  {
   "cell_type": "code",
   "execution_count": null,
   "metadata": {},
   "outputs": [
    {
     "ename": "SyntaxError",
     "evalue": "invalid syntax (Temp/ipykernel_8540/1289231500.py, line 1)",
     "output_type": "error",
     "traceback": [
      "\u001b[1;36m  File \u001b[1;32m\"C:\\Users\\USER\\AppData\\Local\\Temp/ipykernel_8540/1289231500.py\"\u001b[1;36m, line \u001b[1;32m1\u001b[0m\n\u001b[1;33m    pass = 'John'\u001b[0m\n\u001b[1;37m         ^\u001b[0m\n\u001b[1;31mSyntaxError\u001b[0m\u001b[1;31m:\u001b[0m invalid syntax\n"
     ]
    }
   ],
   "source": [
    "pass = 'John'"
   ]
  },
  {
   "cell_type": "markdown",
   "metadata": {},
   "source": [
    "\n",
    "\n",
    "* Variable names are case sensitive\n",
    "\n",
    "    > message, Message, MESSAGE and MeSsAge are different\n",
    "\n"
   ]
  },
  {
   "cell_type": "code",
   "execution_count": null,
   "metadata": {},
   "outputs": [],
   "source": [
    "message = 'Come here'\n",
    "Message = 'Welcome  home'\n",
    "MESSAGE = 'This is the  data armory'\n",
    "MeSSaGe = 'Thank  for watching'"
   ]
  },
  {
   "cell_type": "code",
   "execution_count": null,
   "metadata": {},
   "outputs": [
    {
     "data": {
      "text/plain": [
       "'Come here'"
      ]
     },
     "execution_count": 24,
     "metadata": {},
     "output_type": "execute_result"
    }
   ],
   "source": [
    "message"
   ]
  },
  {
   "cell_type": "code",
   "execution_count": null,
   "metadata": {},
   "outputs": [
    {
     "data": {
      "text/plain": [
       "'Welcome  home'"
      ]
     },
     "execution_count": 25,
     "metadata": {},
     "output_type": "execute_result"
    }
   ],
   "source": [
    "Message"
   ]
  },
  {
   "cell_type": "code",
   "execution_count": null,
   "metadata": {},
   "outputs": [
    {
     "data": {
      "text/plain": [
       "'This is the  data armory'"
      ]
     },
     "execution_count": 26,
     "metadata": {},
     "output_type": "execute_result"
    }
   ],
   "source": [
    "MESSAGE"
   ]
  },
  {
   "cell_type": "code",
   "execution_count": null,
   "metadata": {},
   "outputs": [
    {
     "data": {
      "text/plain": [
       "'Thank  for watching'"
      ]
     },
     "execution_count": 27,
     "metadata": {},
     "output_type": "execute_result"
    }
   ],
   "source": [
    "MeSSaGe"
   ]
  },
  {
   "cell_type": "markdown",
   "metadata": {},
   "source": [
    "* Ensure that variable names are; \n",
    "    >  Short: though they can  be long.\n",
    "    \n",
    "    > Descriptive:  That is can tell what the variable is used  for."
   ]
  },
  {
   "cell_type": "code",
   "execution_count": null,
   "metadata": {},
   "outputs": [],
   "source": [
    "weather_df = \"Australia.csv\""
   ]
  },
  {
   "cell_type": "code",
   "execution_count": null,
   "metadata": {},
   "outputs": [],
   "source": [
    "data = \"Australia.csv\""
   ]
  },
  {
   "cell_type": "markdown",
   "metadata": {},
   "source": [
    "* Take note that some letters like lowercase l  and uppercase letter O  can easily  be confused with number 1 and 0."
   ]
  },
  {
   "cell_type": "markdown",
   "metadata": {},
   "source": [
    "* While it is legal to use upper case letters;\n",
    "    > Others think it is a  good  idea to start variable names with lower case letter.\n",
    "    \n",
    "    > Others believe that they better use camel case than separate names with \n",
    "\n",
    "    > Other avoid starting variables names with an underscore,  unless when they are writing library code."
   ]
  },
  {
   "cell_type": "markdown",
   "metadata": {},
   "source": [
    "## References and further reading\n",
    "\n",
    "* [Python Built in Functions](https://docs.python.org/3/library/functions.)\n",
    "* [Python Key Words](https://www.w3schools.com/python/python_ref_keywords.asp)\n",
    "* [Function and Variable Names](https://peps.python.org/pep-0008/#function-and-variable-names)\n",
    "* [Automate the boring stuff by Al Sweigart](https://www.amazon.com/Automate-Boring-Stuff-Python-Programming/dp/1593275994) \n",
    "* [Python Crash Course By Eric Matthes](https://www.amazon.com/Python-Crash-Course-2nd-Edition/dp/1593279280/ref=sr_1_1?crid=2ANKISKNQPNKH&keywords=Python+Crash+Course+By+Eric+Matthes&qid=1654606797&s=books&sprefix=%2Cstripbooks-intl-ship%2C1078&sr=1-1)\n",
    "* [Python For Everybody By  Dr. Charles Russell Severance](https://www.amazon.com/Python-Everybody-Exploring-Data/dp/1530051126/ref=sr_1_1?crid=39LZNMJH3NBCG&keywords=python+for+everybody&qid=1654606844&s=books&sprefix=PYTHON+FOR+EVER%2Cstripbooks-intl-ship%2C613&sr=1-1)\n",
    "* [How Developers Choose Names](https://arxiv.org/pdf/2103.07487.pdf)"
   ]
  }
 ],
 "metadata": {
  "interpreter": {
   "hash": "263930470851f494f0ed2879c35b57985588df20f9e529b86e97dd5eb9ddc466"
  },
  "kernelspec": {
   "display_name": "Python 3.9.7 ('base')",
   "language": "python",
   "name": "python3"
  },
  "language_info": {
   "codemirror_mode": {
    "name": "ipython",
    "version": 3
   },
   "file_extension": ".py",
   "mimetype": "text/x-python",
   "name": "python",
   "nbconvert_exporter": "python",
   "pygments_lexer": "ipython3",
   "version": "3.9.7"
  },
  "orig_nbformat": 4
 },
 "nbformat": 4,
 "nbformat_minor": 2
}
